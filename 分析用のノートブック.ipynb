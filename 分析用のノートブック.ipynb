{
 "cells": [
  {
   "cell_type": "code",
   "execution_count": 1,
   "metadata": {},
   "outputs": [],
   "source": [
    "# 使用する(予定の)ライブラリをインポート\n",
    "import numpy as np\n",
    "import pandas as pd\n",
    "import matplotlib.pyplot as plt\n",
    "from copy import deepcopy\n",
    "import os\n",
    "from matplotlib.colors import LogNorm"
   ]
  },
  {
   "cell_type": "code",
   "execution_count": 2,
   "metadata": {},
   "outputs": [],
   "source": [
    "# シミュレーションに使うクラスの定義\n",
    "class Plotter:\n",
    "    def __init__(self):\n",
    "        self.x_variable = None\n",
    "        self.y_variable = None\n",
    "        self.x_data_name = None\n",
    "        self.y_data_name = None\n",
    "        self.root_path = None\n",
    "        self.sovereign_currencies = [\n",
    "            \"Afghanistan\",\"Albania\",\"Australia\",\"Belarus\",\"Brazil\",\"Canada\",\"Chile\",\n",
    "            \"Colombia\",\"Czech Republic\",\"Iceland\",\"India\",\"Israel\",\"Japan\",\"Kazakhstan\",\n",
    "            \"Kenya\",\"Korea\",\"Malaysia\",\"Mexico\",\"Moldova\",\"Morocco\",\"New Zealand\",\n",
    "            \"Pakistan\",\"Paraguay\",\"Peru\",\"Philippines\",\"Poland\",\"Romania\",\"Russia\",\n",
    "            \"Singapore\",\"South Africa\",\"Sweden\",\"Thailand\",\"Turkey\",\"United Kingdom\",\n",
    "            \"United States\",\n",
    "        ]\n",
    "        self.common_currencies = [\n",
    "            \"Austria\",\"Belgium\",\"Germany\",\"Spain\",\"France\",\"Greece\",\"Ireland\",\"Italy\",\n",
    "            \"Kosovo\",\"Luxembourg\",\"Montenegro\",\"Netherlands\",\"Portugal\",\"Burkina Faso\",\n",
    "            \"Senegal\",\"Cameroon\",\"Chad\",\"Equatorial Guinea\",\"Gabon\",\"Republic of Congo\",\n",
    "            \"Antigua and Barbuda\",\"St Kitts and Nevis\",\"St Lucia\",\"St Vincent and the Grenadines\",\n",
    "        ]\n",
    "        self.advanced_nation = [ \n",
    "            \"Australia\",\"Austria\",\"Belgium\",\"Canada\",\"Czech Republic\",\"Denmark\",\"Finland\",\n",
    "            \"France\",\"Germany\",\"Greece\",\"Sweden\",\"Ireland\",\"Italy\",\"Japan\",\"Korea\",\n",
    "            \"Luxembourg\",\"Netherlands\",\"New Zealand\",\"Norway\",\"Portugal\",\"Spain\",\n",
    "            \"Switzerland\",\"United States\",\"United Kingdom\",\n",
    "        ]\n",
    "\n",
    "    def search_data_name(self):\n",
    "        path = self.root_path\n",
    "        print(\"0, 国単位の変数\")\n",
    "        print(\"1, 一人当たりの変数\")\n",
    "        if input(\"数字を選択して入力:\") == \"0\":\n",
    "            path += \"per_nation/\"\n",
    "        else:\n",
    "            path += \"per_person/\"\n",
    "        print()\n",
    "        print(\"1, 成長率\")\n",
    "        print(\"2, 現地通貨建ての変数\")\n",
    "        print(\"3, GDP比\")\n",
    "        print(\"4, GDP比の増加幅\")\n",
    "        print(\"5, 人口\")\n",
    "        n = input(\"数字を選択して入力:\")\n",
    "        if n == \"1\":\n",
    "            path += \"growth_rate/\"\n",
    "        elif n == \"2\":\n",
    "            path += \"national_currency_variables/\"\n",
    "        elif n == \"3\":\n",
    "            path += \"per_GDP/\"\n",
    "        elif n == \"4\":\n",
    "            path += \"diff_rate/\"\n",
    "        else:\n",
    "            path += \"national_currency_variables/人口.csv\"\n",
    "            db = pd.read_csv(path)\n",
    "            return db, \"人口\"\n",
    "        \n",
    "        files = os.listdir(path)\n",
    "        for i, file_name in enumerate(files):\n",
    "            value_name, _ = file_name.split(\".\")\n",
    "            print(i+1, \", \" + value_name)\n",
    "        n = int(input(\"数字を選んで入力:\"))\n",
    "        path += files[n-1]\n",
    "        db = pd.read_csv(path)\n",
    "        choosed_data_name, _ = files[n-1].split(\".\")\n",
    "        return db, choosed_data_name\n",
    "\n",
    "    def choose_data(self):\n",
    "        print(\"分析対象のデータの種類を選んでください\")\n",
    "        print(\"１，前年比データを使った分析\")\n",
    "        print(\"２，2002と2020の比較による分析\")\n",
    "        if input(\":\") == \"1\":\n",
    "            self.root_path = \"data/calculated/SingleYear/\"\n",
    "        else:\n",
    "            self.root_path = \"data/calculated/MidleRange/\"\n",
    "        print()\n",
    "        print(\"x軸の変数を選んでください\")\n",
    "        x_variable, x_data_name = self.search_data_name()\n",
    "        print()\n",
    "        print(\"y軸の変数を選んでください\")\n",
    "        y_variable, y_data_name = self.search_data_name()\n",
    "        self.x_variable = x_variable\n",
    "        self.y_variable = y_variable\n",
    "        self.x_data_name = x_data_name\n",
    "        self.y_data_name = y_data_name\n",
    "        \n",
    "    def drop_unfilled_countries(self):\n",
    "        countries_lst = list(set(self.x_variable[\"Country\"]) & set(self.y_variable[\"Country\"]))\n",
    "        M = min(len(list(self.x_variable.columns)), len(list(self.y_variable.columns)))\n",
    "        col = [\"Country\"] + list(self.x_variable.columns)[-M+1:]\n",
    "        new_x_variable = pd.DataFrame(np.zeros((len(countries_lst), M)), columns=col)\n",
    "        new_y_variable = pd.DataFrame(np.zeros((len(countries_lst), M)), columns=col)\n",
    "        new_x_variable[\"Country\"] = countries_lst\n",
    "        new_y_variable[\"Country\"] = countries_lst\n",
    "        for i, country in enumerate(countries_lst):\n",
    "            t = list(self.x_variable[self.x_variable[\"Country\"]==country].values[0])\n",
    "            new_x_variable.iloc[i,1:] = t[1:]\n",
    "            t = list(self.y_variable[self.y_variable[\"Country\"]==country].values[0])\n",
    "            new_y_variable.iloc[i,1:] = t[1:]\n",
    "\n",
    "        self.x_variable = new_x_variable\n",
    "        self.y_variable = new_y_variable\n",
    "\n",
    "    def set_data(self):\n",
    "        self.choose_data()\n",
    "        self.drop_unfilled_countries()\n",
    "        \n",
    "    def only_advanced_nations(self):\n",
    "        t = deepcopy(self.advanced_nation)\n",
    "        first_country = t.pop()\n",
    "        new_x_db = self.x_variable[self.x_variable[\"Country\"]==first_country].copy()\n",
    "        new_y_db = self.y_variable[self.y_variable[\"Country\"]==first_country].copy()\n",
    "        while t:\n",
    "            country = t.pop()\n",
    "            new_x_db = pd.concat([new_x_db, self.x_variable[self.x_variable[\"Country\"]==country].copy()])\n",
    "            new_y_db = pd.concat([new_y_db, self.y_variable[self.y_variable[\"Country\"]==country].copy()])\n",
    "        new_x_db.sort_values(\"Country\", inplace=True)\n",
    "        new_y_db.sort_values(\"Country\", inplace=True)\n",
    "        new_x_db.reset_index(drop=True, inplace=True)\n",
    "        new_y_db.reset_index(drop=True, inplace=True)\n",
    "        return new_x_db, new_y_db\n",
    "    \n",
    "    def only_developing_country(self):\n",
    "        t = deepcopy(self.advanced_nation)\n",
    "        new_x_db = self.x_variable.copy()\n",
    "        new_y_db = self.y_variable.copy()\n",
    "        while t:\n",
    "            country = t.pop()\n",
    "            new_x_db = new_x_db[new_x_db[\"Country\"]!=country].copy()\n",
    "            new_y_db = new_y_db[new_y_db[\"Country\"]!=country].copy()\n",
    "        new_x_db.sort_values(\"Country\", inplace=True)\n",
    "        new_y_db.sort_values(\"Country\", inplace=True)\n",
    "        new_x_db.reset_index(drop=True, inplace=True)\n",
    "        new_y_db.reset_index(drop=True, inplace=True)\n",
    "        return new_x_db, new_y_db\n",
    "\n",
    "    def only_sovereign_currencies(self):\n",
    "        t = deepcopy(self.sovereign_currencies)\n",
    "        first_country = t.pop()\n",
    "        new_x_db = self.x_variable[self.x_variable[\"Country\"]==first_country].copy()\n",
    "        new_y_db = self.y_variable[self.y_variable[\"Country\"]==first_country].copy()\n",
    "        while t:\n",
    "            country = t.pop()\n",
    "            new_x_db = pd.concat([new_x_db, self.x_variable[self.x_variable[\"Country\"]==country].copy()])\n",
    "            new_y_db = pd.concat([new_y_db, self.y_variable[self.y_variable[\"Country\"]==country].copy()])\n",
    "        new_x_db.sort_values(\"Country\", inplace=True)\n",
    "        new_y_db.sort_values(\"Country\", inplace=True)\n",
    "        new_x_db.reset_index(drop=True, inplace=True)\n",
    "        new_y_db.reset_index(drop=True, inplace=True)\n",
    "        return new_x_db, new_y_db\n",
    "    \n",
    "    def only_common_currencies(self):\n",
    "        t = deepcopy(self.common_currencies)\n",
    "        first_country = t.pop()\n",
    "        new_x_db = self.x_variable[self.x_variable[\"Country\"]==first_country].copy()\n",
    "        new_y_db = self.y_variable[self.y_variable[\"Country\"]==first_country].copy()\n",
    "        while t:\n",
    "            country = t.pop()\n",
    "            new_x_db = pd.concat([new_x_db, self.x_variable[self.x_variable[\"Country\"]==country].copy()])\n",
    "            new_y_db = pd.concat([new_y_db, self.y_variable[self.y_variable[\"Country\"]==country].copy()])\n",
    "        new_x_db.sort_values(\"Country\", inplace=True)\n",
    "        new_y_db.sort_values(\"Country\", inplace=True)\n",
    "        new_x_db.reset_index(drop=True, inplace=True)\n",
    "        new_y_db.reset_index(drop=True, inplace=True)\n",
    "        return new_x_db, new_y_db\n",
    "\n",
    "    def range_scatter(self, xrange=[None, None], yrange=[None, None]):\n",
    "        print(\"分析対象の国の種類を選んでください\")\n",
    "        print(\"0，限定しない\")\n",
    "        print(\"1，先進国限定\")\n",
    "        print(\"2，発展途上国限定\")\n",
    "        print(\"3，変動為替相場制と思われる国限定\")\n",
    "        print(\"4，共通通貨使用国限定\")\n",
    "        t = input(\"数字を入力:\")\n",
    "        x_db, y_db, x_arr, y_arr = None, None, None, None\n",
    "        if t == \"0\":\n",
    "            x_db, y_db = self.x_variable, self.y_variable\n",
    "            x_arr, y_arr = self.x_variable.values, self.y_variable.values\n",
    "        elif t == \"1\":\n",
    "            x_db, y_db = self.only_advanced_nations()\n",
    "            x_arr, y_arr = x_db.values, y_db.values\n",
    "        elif t == \"2\":\n",
    "            x_db, y_db = self.only_developing_country()\n",
    "            x_arr, y_arr = x_db.values, y_db.values\n",
    "        elif t == \"3\":\n",
    "            x_db, y_db = self.only_sovereign_currencies()\n",
    "            x_arr, y_arr = x_db.values, y_db.values\n",
    "        elif t == \"4\":\n",
    "            x_db, y_db = self.only_common_currencies()\n",
    "            x_arr, y_arr = x_db.values, y_db.values\n",
    "        \n",
    "        x_arr = np.array([x_arr[i][1:] for i in range(len(x_db))])\n",
    "        y_arr = np.array([y_arr[i][1:] for i in range(len(y_db))])\n",
    "        \n",
    "        country_lst = list(x_db[\"Country\"])\n",
    "        country_lst.sort()\n",
    "        print(\"対象となった国の一覧\")\n",
    "        for country in country_lst:\n",
    "            print(country)\n",
    "        print(\"******************\")\n",
    "\n",
    "        x_1d, y_1d = x_arr.reshape(len(x_arr)*len(x_arr[0,:])), y_arr.reshape(len(y_arr)*len(y_arr[0,:]))\n",
    "        \n",
    "        plt.scatter(x_1d, y_1d)\n",
    "        plt.xlabel(self.x_data_name + \" (%)\", fontname=\"MS Gothic\")\n",
    "        plt.ylabel(self.y_data_name + \" (%)\", fontname=\"MS Gothic\")\n",
    "        plt.grid(\"both\")\n",
    "        plt.xlim(xrange)\n",
    "        plt.ylim(yrange)\n",
    "        plt.show()\n",
    "\n",
    "    def range_hist2d(self, xrange=[None, None], yrange=[None, None], xybins=[100,100], logscale=True):\n",
    "        # xybinsが、xrangeやyrangeの範囲内で機能していない。要修正\n",
    "        print(\"分析対象の国の種類を選んでください\")\n",
    "        print(\"0，限定しない\")\n",
    "        print(\"1，先進国限定\")\n",
    "        print(\"2，発展途上国限定\")\n",
    "        print(\"3，変動為替相場制と思われる国限定\")\n",
    "        print(\"4，共通通貨使用国限定\")\n",
    "        t = input(\"数字を入力:\")\n",
    "        x_db, y_db, x_arr, y_arr = None, None, None, None\n",
    "        if t == \"0\":\n",
    "            x_db, y_db = self.x_variable, self.y_variable\n",
    "            x_arr, y_arr = self.x_variable.values, self.y_variable.values\n",
    "        elif t == \"1\":\n",
    "            x_db, y_db = self.only_advanced_nations()\n",
    "            x_arr, y_arr = x_db.values, y_db.values\n",
    "        elif t == \"2\":\n",
    "            x_db, y_db = self.only_developing_country()\n",
    "            x_arr, y_arr = x_db.values, y_db.values\n",
    "        elif t == \"3\":\n",
    "            x_db, y_db = self.only_sovereign_currencies()\n",
    "            x_arr, y_arr = x_db.values, y_db.values\n",
    "        elif t == \"4\":\n",
    "            x_db, y_db = self.only_common_currencies()\n",
    "            x_arr, y_arr = x_db.values, y_db.values\n",
    "        \n",
    "        x_arr = np.array([x_arr[i][1:] for i in range(len(x_db))])\n",
    "        y_arr = np.array([y_arr[i][1:] for i in range(len(y_db))])\n",
    "        \n",
    "        country_lst = list(x_db[\"Country\"])\n",
    "        country_lst.sort()\n",
    "        print(\"対象となった国の一覧\")\n",
    "        for country in country_lst:\n",
    "            print(country)\n",
    "        print(\"******************\")\n",
    "\n",
    "        x_1d, y_1d = x_arr.reshape(len(x_arr[:,0])*len(x_arr[0,:])), y_arr.reshape(len(y_arr[:,0])*len(y_arr[0,:]))\n",
    "        \n",
    "        if logscale:\n",
    "            plt.hist2d(x_1d, y_1d, bins=xybins, norm=LogNorm())\n",
    "        else:\n",
    "            plt.hist2d(x_1d, y_1d, bins=xybins)\n",
    "        plt.xlabel(self.x_data_name + \" (%)\", fontname=\"MS Gothic\")\n",
    "        plt.ylabel(self.y_data_name + \" (%)\", fontname=\"MS Gothic\")\n",
    "        plt.grid(\"both\")\n",
    "        plt.colorbar()\n",
    "        plt.xlim(xrange)\n",
    "        plt.ylim(yrange)\n",
    "        plt.show()"
   ]
  },
  {
   "cell_type": "code",
   "execution_count": 3,
   "metadata": {},
   "outputs": [],
   "source": [
    "plotter = Plotter()"
   ]
  },
  {
   "cell_type": "code",
   "execution_count": 37,
   "metadata": {
    "tags": []
   },
   "outputs": [
    {
     "name": "stdout",
     "output_type": "stream",
     "text": [
      "分析対象のデータの種類を選んでください\n",
      "１，前年比データを使った分析\n",
      "２，2002と2020の比較による分析\n"
     ]
    },
    {
     "name": "stdin",
     "output_type": "stream",
     "text": [
      ": 2\n"
     ]
    },
    {
     "name": "stdout",
     "output_type": "stream",
     "text": [
      "\n",
      "x軸の変数を選んでください\n",
      "0, 国単位の変数\n",
      "1, 一人当たりの変数\n"
     ]
    },
    {
     "name": "stdin",
     "output_type": "stream",
     "text": [
      "数字を選択して入力: 0\n"
     ]
    },
    {
     "name": "stdout",
     "output_type": "stream",
     "text": [
      "\n",
      "1, 成長率\n",
      "2, 現地通貨建ての変数\n",
      "3, GDP比\n",
      "4, GDP比の増加幅\n",
      "5, 人口\n"
     ]
    },
    {
     "name": "stdin",
     "output_type": "stream",
     "text": [
      "数字を選択して入力: 1\n"
     ]
    },
    {
     "name": "stdout",
     "output_type": "stream",
     "text": [
      "1 , CPI成長率\n",
      "2 , GDPデフレータ成長率\n",
      "3 , 名目GDP成長率\n",
      "4 , 名目国内総資本形成成長率\n",
      "5 , 名目政府の発注がきっかけの総資本形成成長率\n",
      "6 , 名目政府収入成長率\n",
      "7 , 名目政府支出成長率\n",
      "8 , 名目政府最終消費支出成長率\n",
      "9 , 名目最終消費支出成長率\n",
      "10 , 名目民間の発注がきっかけの総資本形成成長率\n",
      "11 , 名目民間付加価値生産額成長率\n",
      "12 , 名目民間投資支出成長率\n",
      "13 , 名目民間最終消費支出成長率\n",
      "14 , 名目輸入成長率\n",
      "15 , 名目輸出成長率\n",
      "16 , 実質GDP成長率\n",
      "17 , 実質国内総資本形成成長率\n",
      "18 , 実質政府の発注がきっかけの総資本形成成長率\n",
      "19 , 実質政府収入成長率\n",
      "20 , 実質政府支出成長率\n",
      "21 , 実質政府最終消費支出成長率\n",
      "22 , 実質最終消費支出成長率\n",
      "23 , 実質民間の発注がきっかけの総資本形成成長率\n",
      "24 , 実質民間付加価値生産額成長率\n",
      "25 , 実質民間投資支出成長率\n",
      "26 , 実質民間最終消費支出成長率\n",
      "27 , 実質輸入成長率\n",
      "28 , 実質輸出成長率\n"
     ]
    },
    {
     "name": "stdin",
     "output_type": "stream",
     "text": [
      "数字を選んで入力: 19\n"
     ]
    },
    {
     "name": "stdout",
     "output_type": "stream",
     "text": [
      "\n",
      "y軸の変数を選んでください\n",
      "0, 国単位の変数\n",
      "1, 一人当たりの変数\n"
     ]
    },
    {
     "name": "stdin",
     "output_type": "stream",
     "text": [
      "数字を選択して入力: 0\n"
     ]
    },
    {
     "name": "stdout",
     "output_type": "stream",
     "text": [
      "\n",
      "1, 成長率\n",
      "2, 現地通貨建ての変数\n",
      "3, GDP比\n",
      "4, GDP比の増加幅\n",
      "5, 人口\n"
     ]
    },
    {
     "name": "stdin",
     "output_type": "stream",
     "text": [
      "数字を選択して入力: 1\n"
     ]
    },
    {
     "name": "stdout",
     "output_type": "stream",
     "text": [
      "1 , CPI成長率\n",
      "2 , GDPデフレータ成長率\n",
      "3 , 名目GDP成長率\n",
      "4 , 名目国内総資本形成成長率\n",
      "5 , 名目政府の発注がきっかけの総資本形成成長率\n",
      "6 , 名目政府収入成長率\n",
      "7 , 名目政府支出成長率\n",
      "8 , 名目政府最終消費支出成長率\n",
      "9 , 名目最終消費支出成長率\n",
      "10 , 名目民間の発注がきっかけの総資本形成成長率\n",
      "11 , 名目民間付加価値生産額成長率\n",
      "12 , 名目民間投資支出成長率\n",
      "13 , 名目民間最終消費支出成長率\n",
      "14 , 名目輸入成長率\n",
      "15 , 名目輸出成長率\n",
      "16 , 実質GDP成長率\n",
      "17 , 実質国内総資本形成成長率\n",
      "18 , 実質政府の発注がきっかけの総資本形成成長率\n",
      "19 , 実質政府収入成長率\n",
      "20 , 実質政府支出成長率\n",
      "21 , 実質政府最終消費支出成長率\n",
      "22 , 実質最終消費支出成長率\n",
      "23 , 実質民間の発注がきっかけの総資本形成成長率\n",
      "24 , 実質民間付加価値生産額成長率\n",
      "25 , 実質民間投資支出成長率\n",
      "26 , 実質民間最終消費支出成長率\n",
      "27 , 実質輸入成長率\n",
      "28 , 実質輸出成長率\n"
     ]
    },
    {
     "name": "stdin",
     "output_type": "stream",
     "text": [
      "数字を選んで入力: 20\n"
     ]
    }
   ],
   "source": [
    "plotter.set_data()"
   ]
  },
  {
   "cell_type": "code",
   "execution_count": 36,
   "metadata": {
    "scrolled": true
   },
   "outputs": [
    {
     "name": "stdout",
     "output_type": "stream",
     "text": [
      "分析対象の国の種類を選んでください\n",
      "0，限定しない\n",
      "1，先進国限定\n",
      "2，発展途上国限定\n",
      "3，変動為替相場制と思われる国限定\n",
      "4，共通通貨使用国限定\n"
     ]
    },
    {
     "name": "stdin",
     "output_type": "stream",
     "text": [
      "数字を入力: 1\n"
     ]
    },
    {
     "name": "stdout",
     "output_type": "stream",
     "text": [
      "対象となった国の一覧\n",
      "Australia\n",
      "Austria\n",
      "Belgium\n",
      "Canada\n",
      "Czech Republic\n",
      "Denmark\n",
      "Finland\n",
      "France\n",
      "Germany\n",
      "Greece\n",
      "Ireland\n",
      "Italy\n",
      "Luxembourg\n",
      "Netherlands\n",
      "Norway\n",
      "Portugal\n",
      "Spain\n",
      "Sweden\n",
      "United Kingdom\n",
      "******************\n"
     ]
    },
    {
     "data": {
      "image/png": "[encoded data removed]",
      "text/plain": [
       "<Figure size 432x288 with 2 Axes>"
      ]
     },
     "metadata": {
      "needs_background": "light"
     },
     "output_type": "display_data"
    }
   ],
   "source": [
    "plotter.range_hist2d(xybins=[20,20])"
   ]
  },
  {
   "cell_type": "code",
   "execution_count": 10,
   "metadata": {
    "scrolled": true
   },
   "outputs": [
    {
     "name": "stdout",
     "output_type": "stream",
     "text": [
      "分析対象の国の種類を選んでください\n",
      "0，限定しない\n",
      "1，先進国限定\n",
      "2，発展途上国限定\n",
      "3，変動為替相場制と思われる国限定\n",
      "4，共通通貨使用国限定\n"
     ]
    },
    {
     "name": "stdin",
     "output_type": "stream",
     "text": [
      "数字を入力: 0\n"
     ]
    },
    {
     "name": "stdout",
     "output_type": "stream",
     "text": [
      "対象となった国の一覧\n",
      "Afghanistan\n",
      "Albania\n",
      "Algeria\n",
      "Andorra\n",
      "Angola\n",
      "Argentina\n",
      "Aruba\n",
      "Australia\n",
      "Austria\n",
      "Azerbaijan\n",
      "Bahrain\n",
      "Belarus\n",
      "Belgium\n",
      "Belize\n",
      "Benin\n",
      "Bhutan\n",
      "Bolivia\n",
      "Bosnia and Herzegovina\n",
      "Botswana\n",
      "Brazil\n",
      "Brunei Darussalam\n",
      "Bulgaria\n",
      "Burkina Faso\n",
      "Cabo Verde\n",
      "Cameroon\n",
      "Canada\n",
      "Chile\n",
      "China\n",
      "Colombia\n",
      "Costa Rica\n",
      "Croatia\n",
      "Cyprus\n",
      "Czech Republic\n",
      "Democratic Republic of the Congo\n",
      "Denmark\n",
      "Dominican Republic\n",
      "Ecuador\n",
      "Egypt\n",
      "El Salvador\n",
      "Equatorial Guinea\n",
      "Estonia\n",
      "Eswatini\n",
      "Ethiopia\n",
      "Fiji\n",
      "Finland\n",
      "France\n",
      "Gabon\n",
      "Georgia\n",
      "Germany\n",
      "Greece\n",
      "Grenada\n",
      "Guatemala\n",
      "Guyana\n",
      "Haiti\n",
      "Honduras\n",
      "Hong Kong SAR\n",
      "Hungary\n",
      "Iceland\n",
      "India\n",
      "Indonesia\n",
      "Ireland\n",
      "Israel\n",
      "Italy\n",
      "Jamaica\n",
      "Japan\n",
      "Jordan\n",
      "Kazakhstan\n",
      "Kenya\n",
      "Kiribati\n",
      "Kosovo\n",
      "Kuwait\n",
      "Kyrgyz Republic\n",
      "Lao PDR\n",
      "Latvia\n",
      "Lesotho\n",
      "Libya\n",
      "Lithuania\n",
      "Luxembourg\n",
      "Macao SAR\n",
      "Malawi\n",
      "Malaysia\n",
      "Maldives\n",
      "Malta\n",
      "Marshall Islands\n",
      "Mauritius\n",
      "Mexico\n",
      "Moldova\n",
      "Mongolia\n",
      "Montenegro\n",
      "Morocco\n",
      "Mozambique\n",
      "Myanmar\n",
      "Namibia\n",
      "Nepal\n",
      "Netherlands\n",
      "New Zealand\n",
      "Nicaragua\n",
      "Niger\n",
      "Nigeria\n",
      "North Macedonia\n",
      "Norway\n",
      "Oman\n",
      "Pakistan\n",
      "Palau\n",
      "Panama\n",
      "Papua New Guinea\n",
      "Paraguay\n",
      "Peru\n",
      "Philippines\n",
      "Poland\n",
      "Portugal\n",
      "Qatar\n",
      "Romania\n",
      "Russia\n",
      "Samoa\n",
      "Sao Tome and Principe\n",
      "Saudi Arabia\n",
      "Serbia\n",
      "Seychelles\n",
      "Sierra Leone\n",
      "Slovak Republic\n",
      "Slovenia\n",
      "South Africa\n",
      "Spain\n",
      "Sri Lanka\n",
      "St Kitts and Nevis\n",
      "St Lucia\n",
      "St Vincent and the Grenadines\n",
      "Suriname\n",
      "Sweden\n",
      "Taiwan Province of China\n",
      "Tajikistan\n",
      "Tanzania\n",
      "Thailand\n",
      "The Bahamas\n",
      "The Gambia\n",
      "Togo\n",
      "Tonga\n",
      "Trinidad and Tobago\n",
      "Tunisia\n",
      "Turkey\n",
      "Turkmenistan\n",
      "Uganda\n",
      "Ukraine\n",
      "United Arab Emirates\n",
      "United Kingdom\n",
      "United States\n",
      "Uruguay\n",
      "Uzbekistan\n",
      "Vietnam\n",
      "Yemen\n",
      "Zambia\n",
      "******************\n"
     ]
    },
    {
     "data": {
      "image/png": "[encoded data removed]",
      "text/plain": [
       "<Figure size 432x288 with 2 Axes>"
      ]
     },
     "metadata": {
      "needs_background": "light"
     },
     "output_type": "display_data"
    }
   ],
   "source": [
    "plotter.range_hist2d(xrange=[-50,400], yrange=[-50,1000], xybins=[70,100])"
   ]
  },
  {
   "cell_type": "code",
   "execution_count": 38,
   "metadata": {
    "scrolled": true
   },
   "outputs": [
    {
     "name": "stdout",
     "output_type": "stream",
     "text": [
      "分析対象の国の種類を選んでください\n",
      "0，限定しない\n",
      "1，先進国限定\n",
      "2，発展途上国限定\n",
      "3，変動為替相場制と思われる国限定\n",
      "4，共通通貨使用国限定\n"
     ]
    },
    {
     "name": "stdin",
     "output_type": "stream",
     "text": [
      "数字を入力: 1\n"
     ]
    },
    {
     "name": "stdout",
     "output_type": "stream",
     "text": [
      "対象となった国の一覧\n",
      "Australia\n",
      "Austria\n",
      "Belgium\n",
      "Canada\n",
      "Czech Republic\n",
      "Denmark\n",
      "Finland\n",
      "France\n",
      "Germany\n",
      "Greece\n",
      "Ireland\n",
      "Italy\n",
      "Japan\n",
      "Luxembourg\n",
      "Netherlands\n",
      "New Zealand\n",
      "Norway\n",
      "Portugal\n",
      "Spain\n",
      "Sweden\n",
      "United Kingdom\n",
      "United States\n",
      "******************\n"
     ]
    },
    {
     "data": {
      "image/png": "[encoded data removed]",
      "text/plain": [
       "<Figure size 432x288 with 1 Axes>"
      ]
     },
     "metadata": {
      "needs_background": "light"
     },
     "output_type": "display_data"
    }
   ],
   "source": [
    "plotter.range_scatter()#xrange=[-500,1000], yrange=[-20,40])"
   ]
  },
  {
   "cell_type": "code",
   "execution_count": 15,
   "metadata": {},
   "outputs": [
    {
     "data": {
      "text/html": [
       "<div>\n",
       "<style scoped>\n",
       "    .dataframe tbody tr th:only-of-type {\n",
       "        vertical-align: middle;\n",
       "    }\n",
       "\n",
       "    .dataframe tbody tr th {\n",
       "        vertical-align: top;\n",
       "    }\n",
       "\n",
       "    .dataframe thead th {\n",
       "        text-align: right;\n",
       "    }\n",
       "</style>\n",
       "<table border=\"1\" class=\"dataframe\">\n",
       "  <thead>\n",
       "    <tr style=\"text-align: right;\">\n",
       "      <th></th>\n",
       "      <th>Country</th>\n",
       "      <th>2020</th>\n",
       "    </tr>\n",
       "  </thead>\n",
       "  <tbody>\n",
       "    <tr>\n",
       "      <th>89</th>\n",
       "      <td>Japan</td>\n",
       "      <td>-5.851312</td>\n",
       "    </tr>\n",
       "  </tbody>\n",
       "</table>\n",
       "</div>"
      ],
      "text/plain": [
       "   Country      2020\n",
       "89   Japan -5.851312"
      ]
     },
     "execution_count": 15,
     "metadata": {},
     "output_type": "execute_result"
    }
   ],
   "source": [
    "plotter.y_variable[plotter.y_variable[\"Country\"]==\"Japan\"]"
   ]
  },
  {
   "cell_type": "code",
   "execution_count": 16,
   "metadata": {},
   "outputs": [
    {
     "data": {
      "text/html": [
       "<div>\n",
       "<style scoped>\n",
       "    .dataframe tbody tr th:only-of-type {\n",
       "        vertical-align: middle;\n",
       "    }\n",
       "\n",
       "    .dataframe tbody tr th {\n",
       "        vertical-align: top;\n",
       "    }\n",
       "\n",
       "    .dataframe thead th {\n",
       "        text-align: right;\n",
       "    }\n",
       "</style>\n",
       "<table border=\"1\" class=\"dataframe\">\n",
       "  <thead>\n",
       "    <tr style=\"text-align: right;\">\n",
       "      <th></th>\n",
       "      <th>Country</th>\n",
       "      <th>2020</th>\n",
       "    </tr>\n",
       "  </thead>\n",
       "  <tbody>\n",
       "    <tr>\n",
       "      <th>89</th>\n",
       "      <td>Japan</td>\n",
       "      <td>37.096661</td>\n",
       "    </tr>\n",
       "  </tbody>\n",
       "</table>\n",
       "</div>"
      ],
      "text/plain": [
       "   Country       2020\n",
       "89   Japan  37.096661"
      ]
     },
     "execution_count": 16,
     "metadata": {},
     "output_type": "execute_result"
    }
   ],
   "source": [
    "plotter.x_variable[plotter.x_variable[\"Country\"]==\"Japan\"]"
   ]
  },
  {
   "cell_type": "code",
   "execution_count": null,
   "metadata": {},
   "outputs": [],
   "source": []
  }
 ],
 "metadata": {
  "kernelspec": {
   "display_name": "Python 3 (ipykernel)",
   "language": "python",
   "name": "python3"
  },
  "language_info": {
   "codemirror_mode": {
    "name": "ipython",
    "version": 3
   },
   "file_extension": ".py",
   "mimetype": "text/x-python",
   "name": "python",
   "nbconvert_exporter": "python",
   "pygments_lexer": "ipython3",
   "version": "3.10.4"
  },
  "vscode": {
   "interpreter": {
    "hash": "1d79d47b9e09916282e80d76f5dda9787d541e37fc5360372eab0d1a1f7e05d3"
   }
  }
 },
 "nbformat": 4,
 "nbformat_minor": 4
}
